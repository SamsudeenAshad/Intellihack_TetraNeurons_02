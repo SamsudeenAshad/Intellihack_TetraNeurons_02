{
 "cells": [
  {
   "cell_type": "code",
   "execution_count": 7,
   "metadata": {},
   "outputs": [
    {
     "name": "stdout",
     "output_type": "stream",
     "text": [
      "2.2.3\n"
     ]
    }
   ],
   "source": [
    "import pandas as pd\n",
    "print(pd.__version__)  # Should show the installed version (e.g., 2.1.0)"
   ]
  },
  {
   "cell_type": "code",
   "execution_count": 13,
   "metadata": {},
   "outputs": [
    {
     "name": "stdout",
     "output_type": "stream",
     "text": [
      "   total_purchases  avg_cart_value  total_time_spent  product_click  \\\n",
      "0              7.0          129.34             52.17           18.0   \n",
      "1             22.0           24.18              9.19           15.0   \n",
      "2              2.0           32.18             90.69           50.0   \n",
      "3             25.0           26.85             11.22           16.0   \n",
      "4              7.0          125.45             34.19           30.0   \n",
      "\n",
      "   discount_counts customer_id  \n",
      "0              0.0     CM00000  \n",
      "1              7.0     CM00001  \n",
      "2              2.0     CM00002  \n",
      "3             10.0     CM00003  \n",
      "4              3.0     CM00004  \n"
     ]
    }
   ],
   "source": [
    "\n",
    "\n",
    "# Load data\n",
    "df = pd.read_csv(\"C:\\\\Users\\\\HP\\\\OneDrive\\\\Desktop\\\\Intellihack_TetraNeurons_02\\\\customer_behavior_analytcis.csv\")\n",
    "\n",
    "# Display the first 5 rows\n",
    "print(df.head())"
   ]
  }
 ],
 "metadata": {
  "kernelspec": {
   "display_name": "Python 3",
   "language": "python",
   "name": "python3"
  },
  "language_info": {
   "codemirror_mode": {
    "name": "ipython",
    "version": 3
   },
   "file_extension": ".py",
   "mimetype": "text/x-python",
   "name": "python",
   "nbconvert_exporter": "python",
   "pygments_lexer": "ipython3",
   "version": "3.12.5"
  }
 },
 "nbformat": 4,
 "nbformat_minor": 2
}
